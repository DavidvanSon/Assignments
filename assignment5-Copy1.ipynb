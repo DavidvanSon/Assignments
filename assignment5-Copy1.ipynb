{
 "cells": [
  {
   "cell_type": "markdown",
   "metadata": {
    "collapsed": true
   },
   "source": [
    "# Assignment for week 8\n",
    "\n",
    "Use the following table to provide us with\n",
    "\n",
    "|name | exam number|\n",
    "|----|----|\n",
    "|David van Son| u335946|\n",
    "|Jacques Mcdermott| u554837|"
   ]
  },
  {
   "cell_type": "markdown",
   "metadata": {},
   "source": [
    "In this assignment you will have to make a plot of the mortality due to \"Ischemic heart diseases (IHD)\". IHD are caused by the\n",
    "accumulation of fatty deposits lining the inner wall of a coronary artery, restricting blood flow to the heart. IHD alone\n",
    "were responsible for 644 000 deaths across EU countries in 2013, accounting for around 13% of all deaths. Mortality\n",
    "rates from IHD are highest in Lithuania, Latvia, the Slovak Republic, Hungary and the Czech Republic, with over 350 deaths per 100 000 population. The countries with the lowest IHD mortality rates are France, Portugal, the\n",
    "Netherlands, Spain and Belgium. Our plot is taken from http://www.oecd-ilibrary.org/docserver/download/8116231e.pdf?expires=1486219843&id=id&accname=guest&checksum=F326409CF6DCD4DC61990871F943B489 page 63. I have downloaded the data for you and saved it as a csv: mrate.csv.\n",
    "First read the data with the command read.csv2\n",
    "\n",
    "If you encounter the problem that all observations per row are in one cell, add: ,sep=\";\"\n",
    "The command should look like \n",
    "namedf <-read.csv2(\"name of file\", sep=\";\")"
   ]
  },
  {
   "cell_type": "code",
   "execution_count": 1,
   "metadata": {},
   "outputs": [
    {
     "data": {
      "text/html": [
       "<table>\n",
       "<thead><tr><th scope=col>Year</th><th scope=col>Netherlands</th><th scope=col>Hungary</th><th scope=col>France</th><th scope=col>Lithuania</th><th scope=col>United.Kingdom</th><th scope=col>EU28</th></tr></thead>\n",
       "<tbody>\n",
       "\t<tr><td>2000 </td><td>157.6</td><td>416.6</td><td>94.3 </td><td>611.6</td><td>258.6</td><td>221.3</td></tr>\n",
       "\t<tr><td>2001 </td><td>148.7</td><td>418.8</td><td>90.7 </td><td>677.0</td><td>249.8</td><td>213.8</td></tr>\n",
       "\t<tr><td>2002 </td><td>140.7</td><td>414.3</td><td>88.0 </td><td>666.1</td><td>240.7</td><td>206.5</td></tr>\n",
       "\t<tr><td>2003 </td><td>134.8</td><td>440.0</td><td>87.1 </td><td>656.5</td><td>231.7</td><td>205.1</td></tr>\n",
       "\t<tr><td>2004 </td><td>120.6</td><td>441.7</td><td>80.1 </td><td>642.2</td><td>213.4</td><td>192.5</td></tr>\n",
       "\t<tr><td>2005 </td><td>111.8</td><td>450.8</td><td>77.4 </td><td>669.9</td><td>200.7</td><td>187.1</td></tr>\n",
       "\t<tr><td>2006 </td><td>102.6</td><td>459.9</td><td>71.2 </td><td>650.6</td><td>184.5</td><td>174.0</td></tr>\n",
       "\t<tr><td>2007 </td><td> 95.4</td><td>431.0</td><td>67.6 </td><td>633.1</td><td>175.7</td><td>167.3</td></tr>\n",
       "\t<tr><td>2008 </td><td> 89.3</td><td>414.6</td><td>64.8 </td><td>601.6</td><td>166.2</td><td>159.6</td></tr>\n",
       "\t<tr><td>2009 </td><td> 81.5</td><td>410.5</td><td>61.2 </td><td>575.5</td><td>153.4</td><td>152.9</td></tr>\n",
       "\t<tr><td>2010 </td><td> 77.5</td><td>413.3</td><td>57.7 </td><td>593.4</td><td>146.8</td><td>147.2</td></tr>\n",
       "\t<tr><td>2011 </td><td> 74.1</td><td>403.2</td><td>55.7 </td><td>592.9</td><td>132.3</td><td>139.3</td></tr>\n",
       "\t<tr><td>2012 </td><td> 71.4</td><td>400.2</td><td>54.6 </td><td>592.0</td><td>130.5</td><td>136.9</td></tr>\n",
       "\t<tr><td>2013 </td><td> 66.5</td><td>396.6</td><td>51.8 </td><td>589.3</td><td>126.1</td><td>131.9</td></tr>\n",
       "</tbody>\n",
       "</table>\n"
      ],
      "text/latex": [
       "\\begin{tabular}{r|lllllll}\n",
       " Year & Netherlands & Hungary & France & Lithuania & United.Kingdom & EU28\\\\\n",
       "\\hline\n",
       "\t 2000  & 157.6 & 416.6 & 94.3  & 611.6 & 258.6 & 221.3\\\\\n",
       "\t 2001  & 148.7 & 418.8 & 90.7  & 677.0 & 249.8 & 213.8\\\\\n",
       "\t 2002  & 140.7 & 414.3 & 88.0  & 666.1 & 240.7 & 206.5\\\\\n",
       "\t 2003  & 134.8 & 440.0 & 87.1  & 656.5 & 231.7 & 205.1\\\\\n",
       "\t 2004  & 120.6 & 441.7 & 80.1  & 642.2 & 213.4 & 192.5\\\\\n",
       "\t 2005  & 111.8 & 450.8 & 77.4  & 669.9 & 200.7 & 187.1\\\\\n",
       "\t 2006  & 102.6 & 459.9 & 71.2  & 650.6 & 184.5 & 174.0\\\\\n",
       "\t 2007  &  95.4 & 431.0 & 67.6  & 633.1 & 175.7 & 167.3\\\\\n",
       "\t 2008  &  89.3 & 414.6 & 64.8  & 601.6 & 166.2 & 159.6\\\\\n",
       "\t 2009  &  81.5 & 410.5 & 61.2  & 575.5 & 153.4 & 152.9\\\\\n",
       "\t 2010  &  77.5 & 413.3 & 57.7  & 593.4 & 146.8 & 147.2\\\\\n",
       "\t 2011  &  74.1 & 403.2 & 55.7  & 592.9 & 132.3 & 139.3\\\\\n",
       "\t 2012  &  71.4 & 400.2 & 54.6  & 592.0 & 130.5 & 136.9\\\\\n",
       "\t 2013  &  66.5 & 396.6 & 51.8  & 589.3 & 126.1 & 131.9\\\\\n",
       "\\end{tabular}\n"
      ],
      "text/markdown": [
       "\n",
       "Year | Netherlands | Hungary | France | Lithuania | United.Kingdom | EU28 | \n",
       "|---|---|---|---|---|---|---|---|---|---|---|---|---|---|\n",
       "| 2000  | 157.6 | 416.6 | 94.3  | 611.6 | 258.6 | 221.3 | \n",
       "| 2001  | 148.7 | 418.8 | 90.7  | 677.0 | 249.8 | 213.8 | \n",
       "| 2002  | 140.7 | 414.3 | 88.0  | 666.1 | 240.7 | 206.5 | \n",
       "| 2003  | 134.8 | 440.0 | 87.1  | 656.5 | 231.7 | 205.1 | \n",
       "| 2004  | 120.6 | 441.7 | 80.1  | 642.2 | 213.4 | 192.5 | \n",
       "| 2005  | 111.8 | 450.8 | 77.4  | 669.9 | 200.7 | 187.1 | \n",
       "| 2006  | 102.6 | 459.9 | 71.2  | 650.6 | 184.5 | 174.0 | \n",
       "| 2007  |  95.4 | 431.0 | 67.6  | 633.1 | 175.7 | 167.3 | \n",
       "| 2008  |  89.3 | 414.6 | 64.8  | 601.6 | 166.2 | 159.6 | \n",
       "| 2009  |  81.5 | 410.5 | 61.2  | 575.5 | 153.4 | 152.9 | \n",
       "| 2010  |  77.5 | 413.3 | 57.7  | 593.4 | 146.8 | 147.2 | \n",
       "| 2011  |  74.1 | 403.2 | 55.7  | 592.9 | 132.3 | 139.3 | \n",
       "| 2012  |  71.4 | 400.2 | 54.6  | 592.0 | 130.5 | 136.9 | \n",
       "| 2013  |  66.5 | 396.6 | 51.8  | 589.3 | 126.1 | 131.9 | \n",
       "\n",
       "\n"
      ],
      "text/plain": [
       "   Year Netherlands Hungary France Lithuania United.Kingdom EU28 \n",
       "1  2000 157.6       416.6   94.3   611.6     258.6          221.3\n",
       "2  2001 148.7       418.8   90.7   677.0     249.8          213.8\n",
       "3  2002 140.7       414.3   88.0   666.1     240.7          206.5\n",
       "4  2003 134.8       440.0   87.1   656.5     231.7          205.1\n",
       "5  2004 120.6       441.7   80.1   642.2     213.4          192.5\n",
       "6  2005 111.8       450.8   77.4   669.9     200.7          187.1\n",
       "7  2006 102.6       459.9   71.2   650.6     184.5          174.0\n",
       "8  2007  95.4       431.0   67.6   633.1     175.7          167.3\n",
       "9  2008  89.3       414.6   64.8   601.6     166.2          159.6\n",
       "10 2009  81.5       410.5   61.2   575.5     153.4          152.9\n",
       "11 2010  77.5       413.3   57.7   593.4     146.8          147.2\n",
       "12 2011  74.1       403.2   55.7   592.9     132.3          139.3\n",
       "13 2012  71.4       400.2   54.6   592.0     130.5          136.9\n",
       "14 2013  66.5       396.6   51.8   589.3     126.1          131.9"
      ]
     },
     "metadata": {},
     "output_type": "display_data"
    }
   ],
   "source": [
    "p <-read.csv2(\"mrate.csv\",sep=\";\")\n",
    "p"
   ]
  },
  {
   "cell_type": "markdown",
   "metadata": {},
   "source": [
    "Please have a look at the structure of data with the command str()"
   ]
  },
  {
   "cell_type": "code",
   "execution_count": 2,
   "metadata": {},
   "outputs": [
    {
     "name": "stdout",
     "output_type": "stream",
     "text": [
      "'data.frame':\t14 obs. of  7 variables:\n",
      " $ Year          : int  2000 2001 2002 2003 2004 2005 2006 2007 2008 2009 ...\n",
      " $ Netherlands   : num  158 149 141 135 121 ...\n",
      " $ Hungary       : num  417 419 414 440 442 ...\n",
      " $ France        : num  94.3 90.7 88 87.1 80.1 77.4 71.2 67.6 64.8 61.2 ...\n",
      " $ Lithuania     : num  612 677 666 656 642 ...\n",
      " $ United.Kingdom: num  259 250 241 232 213 ...\n",
      " $ EU28          : num  221 214 206 205 192 ...\n"
     ]
    }
   ],
   "source": [
    "str(p)"
   ]
  },
  {
   "cell_type": "markdown",
   "metadata": {},
   "source": [
    "Since the data are in the \"wide\" format, we need to make it in the long format with the package \"tidyr\". For the graph we need the package ggplot2."
   ]
  },
  {
   "cell_type": "markdown",
   "metadata": {},
   "source": [
    "Load the libraries ggplot2 and tidyr with the command library()"
   ]
  },
  {
   "cell_type": "code",
   "execution_count": 6,
   "metadata": {},
   "outputs": [],
   "source": [
    "library(ggplot2)\n",
    "library(tidyr)"
   ]
  },
  {
   "cell_type": "markdown",
   "metadata": {},
   "source": [
    "Now we have the most difficult part of the assignment. We need to make a new object and than convert the data in the long format with the command \"gather\".\n",
    "\n",
    "\n",
    "The command should look like\n",
    "\n",
    "\n",
    "new object <- gather(name dataframe, name of the new colum, name of the value, column:column)\n",
    "\n",
    "* For new object you can use for example p.\n",
    "* The name of our dataframe was s\n",
    "* The name of the new column could be Country (since we want the countries to be the observations). Country is a new name.\n",
    "* The name of the value could be mortality (since the numbers are Age-standardised mortality rates per 100 000 population)\n",
    "* We need the colums from the Netherlands until EU28 (so you have to fill in Netherlands:EU28)."
   ]
  },
  {
   "cell_type": "code",
   "execution_count": 8,
   "metadata": {},
   "outputs": [],
   "source": [
    "p <- gather(p, Country, mortality, Netherlands:EU28)\n"
   ]
  },
  {
   "cell_type": "markdown",
   "metadata": {},
   "source": [
    "Now we can make the plot with geom_line of ggplot.\n",
    "The syntax of the command would be:\n",
    "\n",
    "ggplot(name of dataframe, aes(x=x-axis, y=y-axis, color=Group)) + geom_line()\n",
    "\n",
    "* name of dataframe is p if you followed the instructions above (the long format)\n",
    "* on the x-axis you will need Year\n",
    "* on the y-axis you will need mortality\n",
    "* for color you need Country (so we have one line per country)"
   ]
  },
  {
   "cell_type": "code",
   "execution_count": 11,
   "metadata": {},
   "outputs": [
    {
     "data": {},
     "metadata": {},
     "output_type": "display_data"
    },
    {
     "data": {
      "image/png": "[encoded data removed]",
      "text/plain": [
       "plot without title"
      ]
     },
     "metadata": {},
     "output_type": "display_data"
    }
   ],
   "source": [
    "ggplot(p, aes(x=Year, y=mortality, color = Country)) + geom_line()"
   ]
  },
  {
   "cell_type": "code",
   "execution_count": null,
   "metadata": {
    "collapsed": true
   },
   "outputs": [],
   "source": []
  }
 ],
 "metadata": {
  "anaconda-cloud": {},
  "kernelspec": {
   "display_name": "R",
   "language": "R",
   "name": "ir"
  },
  "language_info": {
   "codemirror_mode": "r",
   "file_extension": ".r",
   "mimetype": "text/x-r-source",
   "name": "R",
   "pygments_lexer": "r",
   "version": "3.3.3"
  }
 },
 "nbformat": 4,
 "nbformat_minor": 1
}
